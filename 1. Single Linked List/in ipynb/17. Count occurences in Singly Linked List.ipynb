{
 "cells": [
  {
   "cell_type": "code",
   "execution_count": 9,
   "metadata": {},
   "outputs": [
    {
     "name": "stdout",
     "output_type": "stream",
     "text": [
      "6\n",
      "6\n"
     ]
    }
   ],
   "source": [
    "class Node:\n",
    "    def __init__(self, data):\n",
    "        self.data = data\n",
    "        self.next = None\n",
    "\n",
    "class LinkedList:\n",
    "    def __init__(self):\n",
    "        self.head = None\n",
    "\n",
    "    def print_list(self):\n",
    "        cur_node = self.head\n",
    "        while cur_node:\n",
    "            print(cur_node.data)\n",
    "            cur_node = cur_node.next\n",
    "\n",
    "    def append(self, data):\n",
    "        new_node = Node(data)\n",
    "\n",
    "        if self.head is None:\n",
    "            self.head = new_node\n",
    "            return\n",
    "\n",
    "        last_node = self.head\n",
    "        while last_node.next:\n",
    "            last_node = last_node.next\n",
    "        last_node.next = new_node\n",
    "        \n",
    "    def count_occurences_iterative(self, data):\n",
    "        count = 0\n",
    "        cur = self.head\n",
    "        while cur:\n",
    "            if cur.data == data:\n",
    "                count += 1\n",
    "            cur = cur.next\n",
    "            \n",
    "        return count\n",
    "    \n",
    "    def count_occurences_recursive(self, node,  data):\n",
    "        if not node:\n",
    "            return 0\n",
    "        if node.data == data:\n",
    "            return 1+self.count_occurences_recursive(node.next, data)\n",
    "        else:\n",
    "            return self.count_occurences_recursive(node.next, data)\n",
    "        \n",
    "        \n",
    "        \n",
    "llist = LinkedList()\n",
    "llist.append(1)\n",
    "llist.append(1)\n",
    "llist.append(1)\n",
    "llist.append(1)\n",
    "llist.append(2)\n",
    "llist.append(3)\n",
    "llist.append(1)\n",
    "llist.append(1)\n",
    "print(llist.count_occurences_iterative(1))\n",
    "print(llist.count_occurences_recursive(llist.head, 1))"
   ]
  },
  {
   "cell_type": "code",
   "execution_count": null,
   "metadata": {},
   "outputs": [],
   "source": []
  }
 ],
 "metadata": {
  "kernelspec": {
   "display_name": "Python 3",
   "language": "python",
   "name": "python3"
  },
  "language_info": {
   "codemirror_mode": {
    "name": "ipython",
    "version": 3
   },
   "file_extension": ".py",
   "mimetype": "text/x-python",
   "name": "python",
   "nbconvert_exporter": "python",
   "pygments_lexer": "ipython3",
   "version": "3.6.5"
  }
 },
 "nbformat": 4,
 "nbformat_minor": 2
}
