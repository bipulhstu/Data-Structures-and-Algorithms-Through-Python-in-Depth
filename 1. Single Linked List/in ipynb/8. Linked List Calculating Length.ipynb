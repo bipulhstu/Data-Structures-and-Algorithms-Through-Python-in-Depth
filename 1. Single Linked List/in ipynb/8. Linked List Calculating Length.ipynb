{
 "cells": [
  {
   "cell_type": "code",
   "execution_count": 11,
   "metadata": {},
   "outputs": [
    {
     "name": "stdout",
     "output_type": "stream",
     "text": [
      "4\n",
      "4\n",
      "A\n",
      "B\n",
      "C\n",
      "D\n"
     ]
    }
   ],
   "source": [
    "class Node:\n",
    "    def __init__(self, data):\n",
    "        self.data = data\n",
    "        self.next = None\n",
    "\n",
    "class LinkedList:\n",
    "    def __init__(self):\n",
    "        self.head = None\n",
    "    \n",
    "    def print_list(self):\n",
    "        cur_node = self.head\n",
    "        \n",
    "        while cur_node:\n",
    "            print(cur_node.data)\n",
    "            cur_node = cur_node.next\n",
    "            \n",
    "    def append(self, data):\n",
    "        #create memory\n",
    "        new_node = Node(data)\n",
    "        \n",
    "        #insertion in an empty linked list\n",
    "        if self.head is None:\n",
    "            self.head = new_node\n",
    "            return \n",
    "        \n",
    "        #insertion at the end of the linked list\n",
    "        last_node = self.head\n",
    "        while last_node.next is not None:\n",
    "            last_node = last_node.next\n",
    "            \n",
    "        last_node.next = new_node\n",
    "        \n",
    "    def count_nodes_iterative(self):\n",
    "        temp = self.head\n",
    "        count = 1\n",
    "        \n",
    "        while temp.next:\n",
    "            count+=1\n",
    "            temp = temp.next\n",
    "     \n",
    "        return count\n",
    "    \n",
    "    def count_nodes_recursive(self, node):\n",
    "        if node is None:\n",
    "            return 0\n",
    "        return 1+ self.count_nodes_recursive(node.next)\n",
    "        \n",
    "        \n",
    "        \n",
    "if __name__ == \"__main__\":\n",
    "    llist = LinkedList()\n",
    "\n",
    "    llist.append(\"A\")\n",
    "    llist.append(\"B\")\n",
    "    llist.append(\"C\")\n",
    "    llist.append(\"D\")\n",
    "\n",
    "    print(llist.count_nodes_iterative())\n",
    "    print(llist.count_nodes_recursive(llist.head))\n",
    "    llist.print_list()"
   ]
  },
  {
   "cell_type": "code",
   "execution_count": null,
   "metadata": {},
   "outputs": [],
   "source": []
  }
 ],
 "metadata": {
  "kernelspec": {
   "display_name": "Python 3",
   "language": "python",
   "name": "python3"
  },
  "language_info": {
   "codemirror_mode": {
    "name": "ipython",
    "version": 3
   },
   "file_extension": ".py",
   "mimetype": "text/x-python",
   "name": "python",
   "nbconvert_exporter": "python",
   "pygments_lexer": "ipython3",
   "version": "3.6.5"
  }
 },
 "nbformat": 4,
 "nbformat_minor": 2
}
