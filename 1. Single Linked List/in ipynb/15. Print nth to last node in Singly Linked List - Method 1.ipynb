{
 "cells": [
  {
   "cell_type": "markdown",
   "metadata": {},
   "source": [
    "# Method 1\n"
   ]
  },
  {
   "cell_type": "code",
   "execution_count": 1,
   "metadata": {},
   "outputs": [
    {
     "name": "stdout",
     "output_type": "stream",
     "text": [
      "C\n",
      "<__main__.Node object at 0x00000285C8DFE208>\n"
     ]
    }
   ],
   "source": [
    "class Node:\n",
    "    def __init__(self, data):\n",
    "        self.data = data\n",
    "        self.next = None\n",
    "\n",
    "\n",
    "class LinkedList:\n",
    "    def __init__(self):\n",
    "        self.head = None\n",
    "\n",
    "    def print_list(self):\n",
    "        cur_node = self.head\n",
    "        while cur_node:\n",
    "            print(cur_node.data)\n",
    "            cur_node = cur_node.next\n",
    "\n",
    "    def append(self, data):\n",
    "        new_node = Node(data)\n",
    "\n",
    "        if self.head is None:\n",
    "            self.head = new_node\n",
    "            return\n",
    "\n",
    "        last_node = self.head\n",
    "        while last_node.next:\n",
    "            last_node = last_node.next\n",
    "        last_node.next = new_node\n",
    "        \n",
    "    def len_iterative(self):\n",
    "\n",
    "        count = 0\n",
    "        cur_node = self.head\n",
    "\n",
    "        while cur_node:\n",
    "            count += 1\n",
    "            cur_node = cur_node.next\n",
    "        return count\n",
    "\n",
    "    def len_recursive(self, node):\n",
    "        if node is None:\n",
    "            return 0\n",
    "        return 1 + self.len_recursive(node.next)\n",
    "    \n",
    "    def print_nth_from_last(self, n):\n",
    "\n",
    "        # Method 1:\n",
    "        total_len = self.len_iterative()\n",
    "        \n",
    "        cur = self.head \n",
    "        while cur:\n",
    "            if total_len == n:\n",
    "                print(cur.data)\n",
    "                return cur\n",
    "            total_len -= 1\n",
    "            cur = cur.next\n",
    "        if cur is None:\n",
    "            return\n",
    "\n",
    "        \n",
    "llist = LinkedList()\n",
    "llist.append(\"A\")\n",
    "llist.append(\"B\")\n",
    "llist.append(\"C\")\n",
    "llist.append(\"D\")\n",
    "\n",
    "print(llist.print_nth_from_last(2))\n",
    "\n"
   ]
  },
  {
   "cell_type": "code",
   "execution_count": null,
   "metadata": {},
   "outputs": [],
   "source": []
  }
 ],
 "metadata": {
  "kernelspec": {
   "display_name": "Python 3",
   "language": "python",
   "name": "python3"
  },
  "language_info": {
   "codemirror_mode": {
    "name": "ipython",
    "version": 3
   },
   "file_extension": ".py",
   "mimetype": "text/x-python",
   "name": "python",
   "nbconvert_exporter": "python",
   "pygments_lexer": "ipython3",
   "version": "3.6.5"
  }
 },
 "nbformat": 4,
 "nbformat_minor": 2
}
