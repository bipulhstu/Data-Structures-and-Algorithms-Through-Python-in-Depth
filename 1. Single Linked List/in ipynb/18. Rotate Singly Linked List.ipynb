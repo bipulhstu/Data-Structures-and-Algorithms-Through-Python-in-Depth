{
 "cells": [
  {
   "cell_type": "code",
   "execution_count": 3,
   "metadata": {},
   "outputs": [
    {
     "name": "stdout",
     "output_type": "stream",
     "text": [
      "1\n",
      "2\n",
      "3\n",
      "4\n",
      "5\n",
      "6\n",
      "After Rotation: \n",
      "\n",
      "5\n",
      "6\n",
      "1\n",
      "2\n",
      "3\n",
      "4\n"
     ]
    }
   ],
   "source": [
    "class Node:\n",
    "    def __init__(self, data):\n",
    "        self.data = data\n",
    "        self.next = None\n",
    "\n",
    "\n",
    "class LinkedList:\n",
    "    def __init__(self):\n",
    "        self.head = None\n",
    "\n",
    "    def print_list(self):\n",
    "        cur_node = self.head\n",
    "        while cur_node:\n",
    "            print(cur_node.data)\n",
    "            cur_node = cur_node.next\n",
    "\n",
    "    def append(self, data):\n",
    "        new_node = Node(data)\n",
    "\n",
    "        if self.head is None:\n",
    "            self.head = new_node\n",
    "            return\n",
    "\n",
    "        last_node = self.head\n",
    "        while last_node.next:\n",
    "            last_node = last_node.next\n",
    "        last_node.next = new_node\n",
    "        \n",
    "    def rotate(self, k):\n",
    "        p = self.head \n",
    "        q = self.head \n",
    "        prev = None\n",
    "        \n",
    "        count = 0\n",
    "        \n",
    "        while p and count < k:\n",
    "            prev = p\n",
    "            p = p.next \n",
    "            q = q.next \n",
    "            count += 1\n",
    "        p = prev\n",
    "        while q:\n",
    "            prev = q \n",
    "            q = q.next \n",
    "        q = prev \n",
    "\n",
    "        q.next = self.head \n",
    "        self.head = p.next \n",
    "        p.next = None\n",
    "\n",
    "\n",
    "\n",
    "llist = LinkedList()\n",
    "llist.append(1)\n",
    "llist.append(2)\n",
    "llist.append(3)\n",
    "llist.append(4)\n",
    "llist.append(5)\n",
    "llist.append(6)\n",
    "\n",
    "llist.print_list()\n",
    "print(\"After Rotation: \\n\")\n",
    "llist.rotate(4)\n",
    "llist.print_list()"
   ]
  },
  {
   "cell_type": "code",
   "execution_count": null,
   "metadata": {},
   "outputs": [],
   "source": []
  }
 ],
 "metadata": {
  "kernelspec": {
   "display_name": "Python 3",
   "language": "python",
   "name": "python3"
  },
  "language_info": {
   "codemirror_mode": {
    "name": "ipython",
    "version": 3
   },
   "file_extension": ".py",
   "mimetype": "text/x-python",
   "name": "python",
   "nbconvert_exporter": "python",
   "pygments_lexer": "ipython3",
   "version": "3.6.5"
  }
 },
 "nbformat": 4,
 "nbformat_minor": 2
}
