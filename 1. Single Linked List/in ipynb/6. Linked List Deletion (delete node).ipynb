{
 "cells": [
  {
   "cell_type": "code",
   "execution_count": 1,
   "metadata": {},
   "outputs": [
    {
     "name": "stdout",
     "output_type": "stream",
     "text": [
      "A\n",
      "C\n",
      "D\n"
     ]
    }
   ],
   "source": [
    "class Node:\n",
    "    def __init__(self, data):\n",
    "        self.data = data\n",
    "        self.next = None\n",
    "\n",
    "class LinkedList:\n",
    "    def __init__(self):\n",
    "        self.head = None\n",
    "    \n",
    "    def print_list(self):\n",
    "        cur_node = self.head\n",
    "        \n",
    "        while cur_node:\n",
    "            print(cur_node.data)\n",
    "            cur_node = cur_node.next\n",
    "            \n",
    "    def append(self, data):\n",
    "        #create memory\n",
    "        new_node = Node(data)\n",
    "        \n",
    "        #insertion in an empty linked list\n",
    "        if self.head is None:\n",
    "            self.head = new_node\n",
    "            return \n",
    "        \n",
    "        #insertion at the end of the linked list\n",
    "        last_node = self.head\n",
    "        while last_node.next is not None:\n",
    "            last_node = last_node.next\n",
    "            \n",
    "        last_node.next = new_node\n",
    "        \n",
    "    def delete_node(self, key):\n",
    "        #two cases\n",
    "        #Case 1: node to be deleted is head\n",
    "        cur_node = self.head\n",
    "        if cur_node and cur_node.data == key:\n",
    "            self.head = cur_node.next\n",
    "            cur_node = None\n",
    "            return\n",
    "        \n",
    "        #Case 2: node to be deleted is not head\n",
    "        prev = None\n",
    "        \n",
    "        while cur_node and cur_node.data != key:\n",
    "            prev = cur_node\n",
    "            cur_node = cur_node.next\n",
    "            \n",
    "        #if the key is not present in the list\n",
    "        if cur_node is None:\n",
    "            print(\"The key is not present in the list\")\n",
    "            return\n",
    "        \n",
    "        prev.next = cur_node.next\n",
    "        cur_node = None\n",
    "            \n",
    "    \n",
    "if __name__ == \"__main__\":\n",
    "    llist = LinkedList()\n",
    "\n",
    "    llist.append(\"A\")\n",
    "    llist.append(\"B\")\n",
    "    llist.append(\"C\")\n",
    "    llist.append(\"D\")\n",
    "\n",
    "    llist.delete_node(\"B\")\n",
    "    llist.print_list()"
   ]
  },
  {
   "cell_type": "code",
   "execution_count": null,
   "metadata": {},
   "outputs": [],
   "source": []
  }
 ],
 "metadata": {
  "kernelspec": {
   "display_name": "Python 3",
   "language": "python",
   "name": "python3"
  },
  "language_info": {
   "codemirror_mode": {
    "name": "ipython",
    "version": 3
   },
   "file_extension": ".py",
   "mimetype": "text/x-python",
   "name": "python",
   "nbconvert_exporter": "python",
   "pygments_lexer": "ipython3",
   "version": "3.6.5"
  }
 },
 "nbformat": 4,
 "nbformat_minor": 2
}
