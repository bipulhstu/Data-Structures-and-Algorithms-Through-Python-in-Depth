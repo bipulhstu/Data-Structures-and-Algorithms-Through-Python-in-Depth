{
 "cells": [
  {
   "cell_type": "code",
   "execution_count": 1,
   "metadata": {},
   "outputs": [
    {
     "name": "stdout",
     "output_type": "stream",
     "text": [
      "1\n",
      "6\n",
      "4\n",
      "2\n"
     ]
    }
   ],
   "source": [
    "class Node:\n",
    "    def __init__(self, data):\n",
    "        self.data = data\n",
    "        self.next = None\n",
    "\n",
    "\n",
    "class LinkedList:\n",
    "    def __init__(self):\n",
    "        self.head = None\n",
    "\n",
    "    def print_list(self):\n",
    "        cur_node = self.head\n",
    "        while cur_node:\n",
    "            print(cur_node.data)\n",
    "            cur_node = cur_node.next\n",
    "\n",
    "    def append(self, data):\n",
    "        new_node = Node(data)\n",
    "\n",
    "        if self.head is None:\n",
    "            self.head = new_node\n",
    "            return\n",
    "\n",
    "        last_node = self.head\n",
    "        while last_node.next:\n",
    "            last_node = last_node.next\n",
    "        last_node.next = new_node\n",
    "    def remove_duplicates(self):\n",
    "        \n",
    "        cur = self.head\n",
    "        prev = None\n",
    "\n",
    "        dup_values = dict()\n",
    "\n",
    "        while cur:\n",
    "            if cur.data in dup_values:\n",
    "                # Remove node:\n",
    "                prev.next = cur.next\n",
    "                cur = None\n",
    "            else:\n",
    "                # Have not encountered element before.\n",
    "                dup_values[cur.data] = 1\n",
    "                prev = cur\n",
    "            cur = prev.next\n",
    "\n",
    "llist = LinkedList()\n",
    "llist.append(1)\n",
    "llist.append(6)\n",
    "llist.append(1)\n",
    "llist.append(4)\n",
    "llist.append(2)\n",
    "llist.append(2)\n",
    "llist.append(4)\n",
    "\n",
    "\n",
    "llist.remove_duplicates()\n",
    "llist.print_list()"
   ]
  },
  {
   "cell_type": "code",
   "execution_count": null,
   "metadata": {},
   "outputs": [],
   "source": []
  }
 ],
 "metadata": {
  "kernelspec": {
   "display_name": "Python 3",
   "language": "python",
   "name": "python3"
  },
  "language_info": {
   "codemirror_mode": {
    "name": "ipython",
    "version": 3
   },
   "file_extension": ".py",
   "mimetype": "text/x-python",
   "name": "python",
   "nbconvert_exporter": "python",
   "pygments_lexer": "ipython3",
   "version": "3.6.5"
  }
 },
 "nbformat": 4,
 "nbformat_minor": 2
}
