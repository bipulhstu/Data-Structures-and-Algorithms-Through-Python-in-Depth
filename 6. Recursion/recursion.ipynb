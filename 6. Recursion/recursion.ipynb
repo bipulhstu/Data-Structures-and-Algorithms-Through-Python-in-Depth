{
 "cells": [
  {
   "cell_type": "code",
   "execution_count": 1,
   "metadata": {
    "collapsed": true
   },
   "outputs": [],
   "source": [
    "def fact(n):\n",
    "    # assuming that n is a positive integer or 0\n",
    "    if n >= 1:\n",
    "        return n * fact(n - 1)\n",
    "    else:\n",
    "        return 1"
   ]
  },
  {
   "cell_type": "code",
   "execution_count": 2,
   "metadata": {},
   "outputs": [
    {
     "name": "stdout",
     "output_type": "stream",
     "text": [
      "0! = 1\n",
      "1! = 1\n",
      "2! = 2\n",
      "3! = 6\n",
      "4! = 24\n"
     ]
    }
   ],
   "source": [
    "print(\"0! =\", fact(0))\n",
    "print(\"1! =\", fact(1))\n",
    "print(\"2! =\", fact(2))\n",
    "print(\"3! =\", fact(3))\n",
    "print(\"4! =\", fact(4))"
   ]
  },
  {
   "cell_type": "code",
   "execution_count": 3,
   "metadata": {
    "collapsed": true
   },
   "outputs": [],
   "source": [
    "def fib(n):\n",
    "    # assuming that n is a positive integer\n",
    "    if n >= 3:\n",
    "        return fib(n-1) + fib(n-2)\n",
    "    else:\n",
    "        return 1"
   ]
  },
  {
   "cell_type": "code",
   "execution_count": 4,
   "metadata": {},
   "outputs": [
    {
     "name": "stdout",
     "output_type": "stream",
     "text": [
      "fib(1) = 1\n",
      "fib(2) = 1\n",
      "fib(3) = 2\n",
      "fib(4) = 3\n",
      "fib(5) = 5\n"
     ]
    }
   ],
   "source": [
    "print(\"fib(1) =\", fib(1))\n",
    "print(\"fib(2) =\", fib(2))\n",
    "print(\"fib(3) =\", fib(3))\n",
    "print(\"fib(4) =\", fib(4))\n",
    "print(\"fib(5) =\", fib(5))"
   ]
  }
 ],
 "metadata": {
  "kernelspec": {
   "display_name": "Python 3",
   "language": "python",
   "name": "python3"
  },
  "language_info": {
   "codemirror_mode": {
    "name": "ipython",
    "version": 3
   },
   "file_extension": ".py",
   "mimetype": "text/x-python",
   "name": "python",
   "nbconvert_exporter": "python",
   "pygments_lexer": "ipython3",
   "version": "3.6.3"
  }
 },
 "nbformat": 4,
 "nbformat_minor": 2
}
